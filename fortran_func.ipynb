{
 "cells": [
  {
   "cell_type": "markdown",
   "metadata": {},
   "source": [
    "# fortran intrinsic functions\n",
    "\n",
    "In this notebook I will add the definition and one or more examples of the fortran intrinsic funtions, most is copied from [fortranwiki.org]\n",
    "\n",
    "\n",
    "[http://fortranwiki.org/fortran/show/Intrinsic+procedures]"
   ]
  },
  {
   "cell_type": "markdown",
   "metadata": {},
   "source": [
    "---"
   ]
  },
  {
   "cell_type": "markdown",
   "metadata": {},
   "source": [
    "## ABS\n",
    "\n",
    "Description: `abs(a)` computes the absolute value of a.\n",
    "\n",
    "Standard: FORTRAN 77 and later\n",
    "\n",
    "Class: Elemental function\n",
    "\n",
    "Syntax:\n",
    "``` fortran \n",
    "result = abs(a)\n",
    "\n",
    "```\n",
    "Arguments:    \n",
    "\n",
    " - a - the type of the argument shall be an integer, real, or complex.\n",
    "\n",
    "Return value: \n",
    "\n",
    " - The return value is of the same type and kind as the argument except the return value is real for a complex argument.\n"
   ]
  },
  {
   "cell_type": "code",
   "execution_count": 6,
   "metadata": {},
   "outputs": [
    {
     "name": "stdout",
     "output_type": "stream",
     "text": [
      "          -1  -1.00000000                (-1.00000000,0.00000000)\n",
      "           1   1.00000000                 (1.00000000,0.00000000)\n"
     ]
    }
   ],
   "source": [
    "%num_images: 1\n",
    "program test_abs\n",
    "  integer :: i = -1\n",
    "  real :: x = -1.e0\n",
    "  complex :: z = (-1.e0,0.e0)\n",
    "  print*,i,x,z\n",
    "  i = abs(i)\n",
    "  x = abs(x)\n",
    "  z = abs(z)\n",
    "  print*,i,x,z\n",
    "end program test_abs"
   ]
  },
  {
   "cell_type": "markdown",
   "metadata": {},
   "source": [
    "---"
   ]
  },
  {
   "cell_type": "markdown",
   "metadata": {},
   "source": [
    "## ACHAR\n",
    "Description: `achar(i)` returns the character located at position i in the ASCII collating sequence.\n",
    "\n",
    "Standard: FORTRAN 77 and later, with kind argument Fortran 2003 and later\n",
    "\n",
    "Class: Elemental function\n",
    "\n",
    "Syntax:\n",
    "\n",
    "``` fortran \n",
    "result = achar(i [, kind])\n",
    "\n",
    "```\n",
    "\n",
    "\n",
    "Arguments:\n",
    " - i - the type shall be integer.\n",
    " - kind - (optional) an integer initialization expression indicating the kind parameter of the result.\n",
    "\n",
    "Return value:\n",
    " - The return value is of type character with a length of one. If the kind argument is present, the return value is of the specified kind and of the default kind otherwise."
   ]
  },
  {
   "cell_type": "code",
   "execution_count": 3,
   "metadata": {},
   "outputs": [
    {
     "name": "stdout",
     "output_type": "stream",
     "text": [
      "ABCDEFGHIJKLMNOPQRSTUVWXYZ[\\]^_`abcdefghijklmnopqrstuvwxyz\n",
      " HELLO WORLD\n"
     ]
    }
   ],
   "source": [
    "%num_images: 1\n",
    "\n",
    "module test\n",
    "contains\n",
    "elemental function To_upper(str)\n",
    "  character(*), intent(in) :: str\n",
    "  character(len=len(str))  :: To_upper\n",
    "  integer :: i\n",
    "\n",
    "  To_upper=str\n",
    "  do i = 1, len(str)\n",
    "      select case(str(i:i))\n",
    "      case(\"a\":\"z\")\n",
    "          To_upper(i:i) = achar(iachar(str(i:i))-32)\n",
    "      end select\n",
    "  end do\n",
    "end function To_upper\n",
    "\n",
    "end module test\n",
    "\n",
    "program test_achar\n",
    "use test\n",
    "implicit none\n",
    "character :: c\n",
    "  integer :: i\n",
    "  do i=65,122\n",
    "    c = achar(i)\n",
    "    write(*,'(A)', ADVANCE = \"NO\") c\n",
    "  end do\n",
    "  \n",
    "  print*,\n",
    "  print*,To_upper('hello World')\n",
    "  \n",
    "end program test_achar"
   ]
  },
  {
   "cell_type": "markdown",
   "metadata": {},
   "source": [
    "---"
   ]
  },
  {
   "cell_type": "markdown",
   "metadata": {},
   "source": [
    "## ACOS\n",
    "\n",
    "Description: `acos(x)` computes the arccosine of x (inverse of cos(x)).\n",
    "\n",
    "Standard: FORTRAN 77 and later, for a complex argument Fortran 2008 and later\n",
    "\n",
    "Class: Elemental function\n",
    "\n",
    "Styntax:\n",
    "```fortran\n",
    "result = acos(x)\n",
    "\n",
    "```\n",
    "Arguments:\n",
    " - x - The type shall be real with a magnitude that is less than one.\n",
    "\n",
    "Return value:\n",
    " - The return value is of the same type and kind as x. The real part of the result is in radians and lies in the range 0≤acos(x)≤π.\n"
   ]
  },
  {
   "cell_type": "code",
   "execution_count": 6,
   "metadata": {},
   "outputs": [
    {
     "name": "stdout",
     "output_type": "stream",
     "text": [
      "  0.52364958093182890     \n"
     ]
    }
   ],
   "source": [
    "%num_images: 1\n",
    "program test_acos\n",
    "  real(8) :: x = 0.866_8\n",
    "  x = acos(x)\n",
    "  print*,x\n",
    "end program test_acos"
   ]
  },
  {
   "cell_type": "markdown",
   "metadata": {},
   "source": [
    "---"
   ]
  },
  {
   "cell_type": "markdown",
   "metadata": {},
   "source": [
    "## ACOSH\n",
    "\n",
    "Description: `acosh(x)` computes the inverse hyperbolic cosine of x.\n",
    "\n",
    "Standard: Fortran 2008 and later\n",
    "\n",
    "Class: Elemental function\n",
    "\n",
    "Syntax: \n",
    "```fortran\n",
    "result = acosh(x)\n",
    "```\n",
    "Arguments:\n",
    " - x - the type shall be real or complex.\n",
    "\n",
    "Return value:\n",
    " - The return value has the same type and kind as x. If x is complex, the imaginary part of the result is in radians and lies between 0 ≤ Im acosh(x) ≤ π.\n"
   ]
  },
  {
   "cell_type": "code",
   "execution_count": 10,
   "metadata": {},
   "outputs": [
    {
     "name": "stdout",
     "output_type": "stream",
     "text": [
      "   0.0000000000000000        1.3169578969248166        1.7627471740390861     \n"
     ]
    }
   ],
   "source": [
    "%num_images: 1\n",
    "program test_acosh\n",
    "  real(8), dimension(3) :: x = (/ 1.0, 2.0, 3.0 /)\n",
    "  write (*,*) acosh(x)\n",
    "end program test_acosh"
   ]
  },
  {
   "cell_type": "markdown",
   "metadata": {},
   "source": [
    "---"
   ]
  },
  {
   "cell_type": "markdown",
   "metadata": {},
   "source": [
    "## ADJUSTL\n",
    "\n",
    "Description: `adjustl(string)` will left adjust a string by removing leading spaces. Spaces are inserted at the end of the string as needed.\n",
    "\n",
    "Standard: Fortran 95 and later\n",
    "\n",
    "Class: Elemental function\n",
    "\n",
    "Syntax:\n",
    "```fortran\n",
    "result = adjustl(string)\n",
    "```\n",
    "Arguments:\n",
    " - string - the type shall be character.\n",
    "\n",
    "Return value\n",
    " - The return value is of type character and of the same kind as string where leading spaces are removed and the same "
   ]
  },
  {
   "cell_type": "code",
   "execution_count": 13,
   "metadata": {},
   "outputs": [
    {
     "name": "stdout",
     "output_type": "stream",
     "text": [
      " gfortran                      20\n"
     ]
    }
   ],
   "source": [
    "%num_images: 1\n",
    "program test_adjustl\n",
    "  character(len=20) :: str = '   gfortran'\n",
    "  str = adjustl(str)\n",
    "  print *, str, len(str)\n",
    "end program test_adjustl"
   ]
  },
  {
   "cell_type": "markdown",
   "metadata": {},
   "source": [
    "---"
   ]
  },
  {
   "cell_type": "markdown",
   "metadata": {},
   "source": [
    "## ADJUSTR\n",
    "\n",
    "Description: `adjustr(string)` will right adjust a string by removing trailing spaces. Spaces are inserted at the start of the string as needed.\n",
    "\n",
    "Standard: Fortran 95 and later\n",
    "\n",
    "Class: Elemental function\n",
    "\n",
    "Syntax\n",
    "```fortran\n",
    "result = adjustr(string)\n",
    "\n",
    "```\n",
    "\n",
    "Arguments:\n",
    " - string - the type shall be character.\n",
    "\n",
    "Return value:\n",
    " - The return value is of type character and of the same kind as string where trailing spaces are removed and the same number of spaces are inserted at the start of string."
   ]
  },
  {
   "cell_type": "code",
   "execution_count": 14,
   "metadata": {},
   "outputs": [
    {
     "name": "stdout",
     "output_type": "stream",
     "text": [
      "             gfortran\n"
     ]
    }
   ],
   "source": [
    "%num_images: 1\n",
    "program test_adjustr\n",
    "  character(len=20) :: str = 'gfortran'\n",
    "  str = adjustr(str)\n",
    "  print *, str\n",
    "end program test_adjustr"
   ]
  },
  {
   "cell_type": "markdown",
   "metadata": {},
   "source": [
    "---"
   ]
  },
  {
   "cell_type": "markdown",
   "metadata": {},
   "source": [
    "## AIMAG\n",
    "\n",
    "Description: `aimag(z)` yields the imaginary part of complex argument z. The imag(z) and imagpart(z) intrinsic functions are provided for compatibility with g77, and their use in new code is strongly discouraged.\n",
    "\n",
    "Standard: FORTRAN 77 and later\n",
    "\n",
    "Class: Elemental function\n",
    "\n",
    "Syntax\n",
    "```fortran\n",
    "result = aimag(z)\n",
    "\n",
    "```\n",
    "\n",
    "Arguments:\n",
    " - z - The type of the argument shall be complex.\n",
    "\n",
    "Return value:\n",
    " - The return value is of type real with the kind type parameter of the argument."
   ]
  },
  {
   "cell_type": "code",
   "execution_count": 15,
   "metadata": {
    "collapsed": true
   },
   "outputs": [
    {
     "name": "stdout",
     "output_type": "stream",
     "text": [
      "   0.00000000       1.0000000000000000     \n"
     ]
    }
   ],
   "source": [
    "%num_images: 1\n",
    "program test_aimag\n",
    "  complex(4) z4\n",
    "  complex(8) z8\n",
    "  z4 = cmplx(1.e0_4, 0.e0_4)\n",
    "  z8 = cmplx(0.e0_8, 1.e0_8)\n",
    "  print *, aimag(z4), dimag(z8)\n",
    "end program test_aimag"
   ]
  },
  {
   "cell_type": "markdown",
   "metadata": {},
   "source": [
    "---"
   ]
  },
  {
   "cell_type": "markdown",
   "metadata": {},
   "source": [
    "## AINT\n",
    "\n",
    "Description: `aint(a [, kind])` truncates its argument to a whole number.\n",
    "\n",
    "Standard: FORTRAN 77 and later\n",
    "\n",
    "Class: Elemental function\n",
    "\n",
    "Syntax:\n",
    "```fortran\n",
    "result = aint(a [, kind])\n",
    "```\n",
    "Arguments:\n",
    " - a - the type of the argument shall be real.\n",
    " - kind - (optional) an integer initialization expression indicating the kind parameter of the result.\n",
    "\n",
    "Return value:\n",
    " - The return value is of type real with the kind type parameter of the argument if the optional kind is absent; otherwise, the kind type parameter will be given by kind. If the magnitude of x is less than one, aint(x) returns zero. If the magnitude is equal to or greater than one then it returns the largest whole number that does not exceed its magnitude. The sign is the same as the sign of x.\n",
    "Example\n"
   ]
  },
  {
   "cell_type": "code",
   "execution_count": 18,
   "metadata": {},
   "outputs": [
    {
     "name": "stdout",
     "output_type": "stream",
     "text": [
      "   1.00000000       4.0000000000000000     \n",
      "   1.0000000000000000     \n"
     ]
    }
   ],
   "source": [
    "%num_images: 1\n",
    "program test_aint\n",
    "  real(kind=4) :: x4\n",
    "  real(kind=8) :: x8\n",
    "  x4 = 1.234E0_4\n",
    "  x8 = 4.321_8\n",
    "  print*, aint(x4), dint(x8)\n",
    "  x8 = aint(x4,8)\n",
    "  print*,x8\n",
    "end program test_aint"
   ]
  },
  {
   "cell_type": "markdown",
   "metadata": {},
   "source": [
    "---"
   ]
  },
  {
   "cell_type": "markdown",
   "metadata": {},
   "source": [
    "## ALL\n",
    "\n",
    "Description: `all(mask [, dim])` determines if all the values are true in mask in the array along dimension dim.\n",
    "\n",
    "Standard: Fortran 95 and later\n",
    "\n",
    "Class: Transformational function\n",
    "\n",
    "Syntax\n",
    "```fortran\n",
    "result = all(mask [, dim])\n",
    "\n",
    "```\n",
    "\n",
    "Arguments:\n",
    " - mask - the type of the argument shall be logical and it shall not be scalar.\n",
    " - dim - (optional) dim shall be a scalar integer with a value that lies between one and the rank of mask.\n",
    "\n",
    "Return value:\n",
    " - all(mask) returns a scalar value of type logical where the kind type parameter is the same as the kind type parameter of mask. If dim is present, then all(mask, dim) returns an array with the rank of mask minus 1. The shape is determined from the shape of mask where the dim dimension is elided.\n",
    "\n",
    " 1 - all(mask) is true if all elements of mask are true. It also is true if mask has zero size; otherwise, it is false.\n",
    "\n",
    " 2 - If the rank of mask is one, then all(mask, dim) is equivalent to all(mask). If the rank is greater than one, then all(mask, dim) is determined by applying all to the array sections.\n"
   ]
  },
  {
   "cell_type": "code",
   "execution_count": 22,
   "metadata": {},
   "outputs": [
    {
     "name": "stdout",
     "output_type": "stream",
     "text": [
      " T\n",
      " T F T\n",
      " T F\n"
     ]
    }
   ],
   "source": [
    "%num_images: 1\n",
    "program test_all\n",
    "  logical :: l\n",
    "  l = all((/.true., .true., .true./))\n",
    "  print *, l\n",
    "  call section\n",
    "  contains\n",
    "    subroutine section\n",
    "      integer(kind=4) :: a(2,3), b(2,3)\n",
    "      a = 1\n",
    "      b = 1\n",
    "      b(2,2) = 2\n",
    "      print *, all(a .eq. b, 1)\n",
    "      print *, all(a .eq. b, 2)\n",
    "    end subroutine section\n",
    "end program test_all"
   ]
  },
  {
   "cell_type": "markdown",
   "metadata": {},
   "source": [
    "---"
   ]
  },
  {
   "cell_type": "markdown",
   "metadata": {},
   "source": [
    "## ALLOCATED\n",
    "\n",
    "Description: `allocated(array)` and `allocated(scalar)` check the allocation status of array and scalar, respectively.\n",
    "\n",
    "Standard: Fortran 95 and later. Note, the scalar= keyword and allocatable scalar entities are available in Fortran 2003 and later.\n",
    "\n",
    "Class: Inquiry function\n",
    "\n",
    "Syntax:\n",
    "```fortran\n",
    " result = allocated(array)\n",
    " result = allocated(scalar)\n",
    "```\n",
    "\n",
    "Arguments:\n",
    " - array - the argument shall be an allocatable array.\n",
    " - scalar - the argument shall be an allocatable scalar.\n",
    "\n",
    "Return value:\n",
    " - The return value is a scalar logical with the default logical kind type parameter. If the argument is allocated then the result is .true.; otherwise, it returns .false.."
   ]
  },
  {
   "cell_type": "code",
   "execution_count": 26,
   "metadata": {},
   "outputs": [
    {
     "name": "stdout",
     "output_type": "stream",
     "text": [
      " F\n",
      "   0.00000000       0.00000000       0.00000000       0.00000000    \n"
     ]
    }
   ],
   "source": [
    "%num_images: 1\n",
    "program test_allocated\n",
    "  integer :: i = 4\n",
    "  real(4), allocatable :: x(:)\n",
    "  print*,allocated(x)\n",
    "  if (allocated(x) .eqv. .false.) allocate(x(i))\n",
    "  print*,x\n",
    "end program test_allocated"
   ]
  },
  {
   "cell_type": "markdown",
   "metadata": {},
   "source": [
    "---"
   ]
  },
  {
   "cell_type": "markdown",
   "metadata": {},
   "source": [
    "## ANINT\n",
    "\n",
    "Description: `anint(a [, kind])` rounds its argument to the nearest whole number.\n",
    "\n",
    "Standard: FORTRAN 77 and later\n",
    "\n",
    "Class: Elemental function\n",
    "\n",
    "Syntax\n",
    "```fortran\n",
    "result = anint(a [, kind])\n",
    "```\n",
    "Arguments:\n",
    " - a - the type of the argument shall be real.\n",
    " - kind - (optional) an integer initialization expression indicating the kind parameter of the result.\n",
    "\n",
    "Return value:\n",
    " - The return value is of type real with the kind type parameter of the argument if the optional kind is absent; otherwise, the kind type parameter will be given by kind. If a is greater than zero, anint(a) returns aint(x + 0.5). If a is less than or equal to zero then it returns aint(x - 0.5).\n"
   ]
  },
  {
   "cell_type": "code",
   "execution_count": 29,
   "metadata": {},
   "outputs": [
    {
     "name": "stdout",
     "output_type": "stream",
     "text": [
      "   1.00000000       4.0000000000000000     \n"
     ]
    }
   ],
   "source": [
    "%num_images: 1\n",
    "program test_anint\n",
    "  real(4) x4\n",
    "  real(8) x8\n",
    "  x4 = 1.234E0_4\n",
    "  x8 = 4.321_8\n",
    "  print *, anint(x4), dnint(x8)\n",
    "  x8 = anint(x4,8)\n",
    "end program test_anint"
   ]
  },
  {
   "cell_type": "markdown",
   "metadata": {},
   "source": [
    "---"
   ]
  },
  {
   "cell_type": "markdown",
   "metadata": {},
   "source": [
    "## ANY\n",
    "\n",
    "Description: `any(mask [, dim])` determines if any of the values in the logical array mask along dimension dim are `.true.`.\n",
    "\n",
    "Standard: Fortran 95 and later\n",
    "\n",
    "Class: Transformational function\n",
    "\n",
    "Syntax\n",
    "``` fortran\n",
    "result = any(mask [, dim])\n",
    "\n",
    "```\n",
    "Arguments:\n",
    " - mask - the type of the argument shall be logical and it shall not be scalar.\n",
    " - dim - (optional) dim shall be a scalar integer with a value that lies between one and the rank of mask.\n",
    "\n",
    "Return value:\n",
    " - `any(mask)` returns a scalar value of type logical where the kind type parameter is the same as the kind type parameter of mask. If dim is present, then any(mask, dim) returns an array with the rank of mask minus 1. The shape is determined from the shape of mask where the dim dimension is elided.\n",
    "\n",
    "    1 - any(mask) is true if any element of mask is true; otherwise, it is false. It also is false if mask has zero size.\n",
    "\n",
    "    2 - If the rank of mask is one, then any(mask, dim) is equivalent to any(mask). If the rank is greater than one, then any(mask, dim) is determined by applying any to the array sections.\n"
   ]
  },
  {
   "cell_type": "code",
   "execution_count": 32,
   "metadata": {},
   "outputs": [
    {
     "name": "stdout",
     "output_type": "stream",
     "text": [
      " T\n",
      " T T T\n",
      " T T\n"
     ]
    }
   ],
   "source": [
    "%num_images: 1\n",
    "program test_any\n",
    "  logical l\n",
    "  l = any((/.true., .true., .true./))\n",
    "  print *, l\n",
    "  call section\n",
    "  contains\n",
    "    subroutine section\n",
    "      integer a(2,3), b(2,3)\n",
    "      a = 1\n",
    "      b = 1\n",
    "      b(2,2) = 2\n",
    "      print *, any(a .eq. b, 1)\n",
    "      print *, any(a .eq. b, 2)\n",
    "    end subroutine section\n",
    "end program test_any"
   ]
  },
  {
   "cell_type": "markdown",
   "metadata": {},
   "source": [
    "---"
   ]
  },
  {
   "cell_type": "markdown",
   "metadata": {},
   "source": [
    "## ASIN\n",
    "\n",
    "Description: - `asin(x)` computes the arcsine of its x (inverse of sin(x)).\n",
    "\n",
    "Standard: FORTRAN 77 and later, for a complex argument Fortran 2008 or later\n",
    "\n",
    "Class: Elemental function\n",
    "\n",
    "Syntax\n",
    "``` fortran\n",
    "result = asin(x)\n",
    "\n",
    "```\n",
    "Arguments\n",
    " - x - The type shall be either real and a magnitude that is less than or equal to one or be complex.\n",
    "\n",
    "Return value\n",
    "- The return value is of the same type and kind as x. The real part of the result is in radians and lies in the range −π/2 ≤ asin(x) ≤ π/2."
   ]
  },
  {
   "cell_type": "code",
   "execution_count": 33,
   "metadata": {},
   "outputs": [
    {
     "name": "stdout",
     "output_type": "stream",
     "text": [
      "   1.0471467458630677     \n"
     ]
    }
   ],
   "source": [
    "%num_images: 1\n",
    "program test_asin\n",
    "  real(8) :: x = 0.866_8\n",
    "  x = asin(x)\n",
    "  print*,x\n",
    "end program test_asin"
   ]
  },
  {
   "cell_type": "markdown",
   "metadata": {},
   "source": [
    "---"
   ]
  },
  {
   "cell_type": "markdown",
   "metadata": {},
   "source": [
    "## ASINH\n",
    "\n",
    "Description: `asinh(x)` computes the inverse hyperbolic sine of x.\n",
    "\n",
    "Standard: Fortran 2008 and later\n",
    "\n",
    "Class: Elemental function\n",
    "\n",
    "Syntax\n",
    "``` fortran\n",
    "result = asinh(x)\n",
    "```\n",
    "Arguments:\n",
    " - x - The type shall be real or complex.\n",
    "\n",
    "Return value:\n",
    " - The return value is of the same type and kind as x. If x is complex, the imaginary part of the result is in radians and lies between −π/2 ≤ Im asinh(x) ≤π/2."
   ]
  },
  {
   "cell_type": "code",
   "execution_count": 34,
   "metadata": {},
   "outputs": [
    {
     "name": "stdout",
     "output_type": "stream",
     "text": [
      " -0.88137358701954305        0.0000000000000000       0.88137358701954305     \n"
     ]
    }
   ],
   "source": [
    "%num_images: 1\n",
    "program test_asinh\n",
    "  real(8), dimension(3) :: x = (/ -1.0, 0.0, 1.0 /)\n",
    "  write (*,*) asinh(x)\n",
    "end program"
   ]
  },
  {
   "cell_type": "markdown",
   "metadata": {},
   "source": [
    "---"
   ]
  },
  {
   "cell_type": "markdown",
   "metadata": {},
   "source": [
    "## ASSOCIATED\n",
    "\n",
    "Description: `associated(pointer [, target])` determines the status of the pointer pointer or if pointer is associated with the target target.\n",
    "\n",
    "Standard: Fortran 95 and later\n",
    "\n",
    "Class: Inquiry function\n",
    "\n",
    "Syntax:\n",
    "``` fortran\n",
    "result = associated(pointer [, target])\n",
    "\n",
    "```\n",
    "Arguments:\n",
    " - pointer - pointer shall have the pointer attribute and it can be of any type.\n",
    " - target - (Optional) target shall be a pointer or a target. It must have the same type, kind type parameter, and array rank as pointer.\n",
    "\n",
    "The association status of neither pointer nor target shall be undefined.\n",
    "\n",
    "\n",
    "Return value:\n",
    "\n",
    " - associated(pointer) returns a scalar value of type logical(4). There are several cases:\n",
    "\n",
    "    1 - When the optional target is not present then associated(pointer) is true if pointer is associated with a target; otherwise, it returns false.\n",
    "\n",
    "    2 - If target is present and a scalar target, the result is true if target is not a zero-sized storage sequence and the target associated with pointer occupies the same storage units. If pointer is disassociated, the result is false.\n",
    "\n",
    "    3 - If target is present and an array target, the result is true if target and pointer have the same shape, are not zero-sized arrays, are arrays whose elements are not zero-sized storage sequences, and target and pointer occupy the same storage units in array element order.\n",
    "\n",
    "    4 - As in case 2, the result is false, if pointer is disassociated.\n",
    "\n",
    "    5 - If target is present and an scalar pointer, the result is true if target is associated with pointer, the target associated with target are not zero-sized storage sequences and occupy the same storage units.\n",
    "\n",
    "    6 - The result is false, if either target or pointer is disassociated.\n",
    "\n",
    "    7 - If target is present and an array pointer, the result is true if target associated with pointer and the target associated with target have the same shape, are not zero-sized arrays, are arrays whose elements are not zero-sized storage sequences, and target and pointer occupy the same storage units in array element order. The result is false, if either target or pointer is disassociated.\n"
   ]
  },
  {
   "cell_type": "code",
   "execution_count": 36,
   "metadata": {},
   "outputs": [],
   "source": [
    "%num_images: 1\n",
    "program test_associated\n",
    "   implicit none\n",
    "   real, target  :: tgt(2) = (/1., 2./)\n",
    "   real, pointer :: ptr(:)\n",
    "   ptr => tgt\n",
    "   if (associated(ptr)     .eqv. .false.) call abort\n",
    "   if (associated(ptr,tgt) .eqv. .false.) call abort\n",
    "end program test_associated"
   ]
  },
  {
   "cell_type": "markdown",
   "metadata": {},
   "source": [
    "---"
   ]
  },
  {
   "cell_type": "markdown",
   "metadata": {},
   "source": [
    "## ATAN\n",
    "\n",
    "Description: `atan(x)` computes the arctangent of x.\n",
    "\n",
    "Standard: FORTRAN 77 and later; for a complex argument and for two arguments Fortran 2008 or later\n",
    "\n",
    "Class: Elemental function\n",
    "\n",
    "Syntax:\n",
    "``` fortran\n",
    "result = atan(x)\n",
    "result = atan(y, x)\n",
    "```\n",
    "Arguments\n",
    " - x - The type shall be real or complex; if y is present, x shall be real.\n",
    " - y - Shall be of the same type and kind as x.\n",
    "\n",
    "Return value:\n",
    " - The return value is of the same type and kind as x. If y is present, the result is identical to atan2(y,x). Otherwise, it the arcus tangent of x, where the real part of the result is in radians and lies in the range −π/2 ≤ Re atan(x) ≤ π/2."
   ]
  },
  {
   "cell_type": "code",
   "execution_count": 37,
   "metadata": {},
   "outputs": [
    {
     "name": "stdout",
     "output_type": "stream",
     "text": [
      "   1.2350854374578792     \n"
     ]
    }
   ],
   "source": [
    "%num_images: 1\n",
    "program test_atan\n",
    "  real(8) :: x = 2.866_8\n",
    "  x = atan(x)\n",
    "  print*,x\n",
    "end program test_atan"
   ]
  },
  {
   "cell_type": "markdown",
   "metadata": {},
   "source": [
    "---"
   ]
  },
  {
   "cell_type": "markdown",
   "metadata": {},
   "source": [
    "## ATAN2\n",
    "\n",
    "Description: `atan2(y, x)` computes the arctangent of the complex number X + iYX + iY.\n",
    "\n",
    "This function can be used to transform from Cartesian into polar coordinates and allows to determine the angle in the correct quadrant. To convert from Cartesian Coordinates (x,y)(x,y) to polar coordinates (r,θ):\n",
    " \\begin{aligned} r &= \\sqrt{x^2 + y^2} \\\\ \\theta &= \\tan^{-1}(y / x) \\end{aligned}\n",
    "\n",
    "Standard: FORTRAN 77 and later\n",
    "\n",
    "Class: Elemental function\n",
    "\n",
    "Syntax:\n",
    "```fortran\n",
    "result = atan2(y, x)\n",
    "```\n",
    "Arguments:\n",
    " - y - The type shall be real.\n",
    " - x - The type and kind type parameter shall be the same as y. If y is zero, then x must be nonzero.\n",
    "\n",
    "Return value:\n",
    " - The return value has the same type and kind type parameter as y. It is the principal value of the complex number X+iYX + i Y. If x is nonzero, then it lies in the range −π ≤ atan(x) ≤ π. The sign is positive if y is positive. If y is zero, then the return value is zero if x is strictly positive, π if x is negative and y is positive zero (or the processor does not handle signed zeros), and −π if x is negative and y is negative zero. Finally, if x is zero, then the magnitude of the result is π/2."
   ]
  },
  {
   "cell_type": "code",
   "execution_count": 38,
   "metadata": {},
   "outputs": [
    {
     "name": "stdout",
     "output_type": "stream",
     "text": [
      "  0.463647604    \n"
     ]
    }
   ],
   "source": [
    "%num_images: 1\n",
    "program test_atan2\n",
    "  real(4) :: x = 1.e0_4, y = 0.5e0_4\n",
    "  x = atan2(y,x)\n",
    "  print*,x\n",
    "end program test_atan2"
   ]
  },
  {
   "cell_type": "markdown",
   "metadata": {},
   "source": [
    "---"
   ]
  },
  {
   "cell_type": "markdown",
   "metadata": {},
   "source": [
    "## ATANH\n",
    "\n",
    "Description: `atanh(x)` computes the inverse hyperbolic tangent of x.\n",
    "\n",
    "Standard: Fortran 2008 and later\n",
    "\n",
    "Class: Elemental function\n",
    "\n",
    "Syntax\n",
    "```fortran\n",
    "result = atanh(x)\n",
    "\n",
    "```\n",
    "Arguments:\n",
    " - x - The type shall be real or complex.\n",
    "\n",
    "Return value:\n",
    " - The return value has same type and kind as x. If x is complex, the imaginary part of the result is in radians and lies between −π/2 ≤ Im atanh(x) ≤ π/2."
   ]
  },
  {
   "cell_type": "code",
   "execution_count": 39,
   "metadata": {},
   "outputs": [
    {
     "name": "stdout",
     "output_type": "stream",
     "text": [
      "        -Infinity   0.00000000             Infinity\n"
     ]
    }
   ],
   "source": [
    "%num_images: 1\n",
    "program test_atanh\n",
    "  real, dimension(3) :: x = (/ -1.0, 0.0, 1.0 /)\n",
    "  write (*,*) atanh(x)\n",
    "end program"
   ]
  },
  {
   "cell_type": "markdown",
   "metadata": {},
   "source": [
    "---"
   ]
  },
  {
   "cell_type": "code",
   "execution_count": null,
   "metadata": {},
   "outputs": [],
   "source": []
  }
 ],
 "metadata": {
  "kernelspec": {
   "display_name": "Coarray Fortran",
   "language": "Fortran",
   "name": "coarray-fortran"
  },
  "language_info": {
   "file_extension": ".f90",
   "mimetype": "text/plain",
   "name": "fortran"
  }
 },
 "nbformat": 4,
 "nbformat_minor": 2
}
