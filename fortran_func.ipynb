{
 "cells": [
  {
   "cell_type": "markdown",
   "metadata": {},
   "source": [
    "# fortran intrinsic functions\n",
    "\n",
    "In this notebook I will add the definition and one or more examples of the fortran intrinsic funtions, most is copied from [fortranwiki.org]\n",
    "\n",
    "\n",
    "[http://fortranwiki.org/fortran/show/Intrinsic+procedures]"
   ]
  },
  {
   "cell_type": "markdown",
   "metadata": {},
   "source": [
    "---"
   ]
  },
  {
   "cell_type": "markdown",
   "metadata": {},
   "source": [
    "## ABS\n",
    "\n",
    "Description: abs(a) computes the absolute value of a.\n",
    "\n",
    "Standard: FORTRAN 77 and later\n",
    "\n",
    "Class: Elemental function\n",
    "\n",
    "Syntax:\n",
    "``` fortran \n",
    "result = abs(a)\n",
    "\n",
    "```\n",
    "Arguments:    \n",
    "\n",
    " - a - the type of the argument shall be an integer, real, or complex.\n",
    "\n",
    "Return value: \n",
    "\n",
    " - The return value is of the same type and kind as the argument except the return value is real for a complex argument.\n"
   ]
  },
  {
   "cell_type": "code",
   "execution_count": 6,
   "metadata": {},
   "outputs": [
    {
     "name": "stdout",
     "output_type": "stream",
     "text": [
      "          -1  -1.00000000                (-1.00000000,0.00000000)\n",
      "           1   1.00000000                 (1.00000000,0.00000000)\n"
     ]
    }
   ],
   "source": [
    "%num_images: 1\n",
    "program test_abs\n",
    "  integer :: i = -1\n",
    "  real :: x = -1.e0\n",
    "  complex :: z = (-1.e0,0.e0)\n",
    "  print*,i,x,z\n",
    "  i = abs(i)\n",
    "  x = abs(x)\n",
    "  z = abs(z)\n",
    "  print*,i,x,z\n",
    "end program test_abs"
   ]
  },
  {
   "cell_type": "markdown",
   "metadata": {},
   "source": [
    "---"
   ]
  },
  {
   "cell_type": "markdown",
   "metadata": {},
   "source": [
    "## ACHAR\n",
    "Description: achar(i) returns the character located at position i in the ASCII collating sequence.\n",
    "\n",
    "Standard: FORTRAN 77 and later, with kind argument Fortran 2003 and later\n",
    "\n",
    "Class: Elemental function\n",
    "\n",
    "Syntax:\n",
    "\n",
    "``` fortran \n",
    "result = achar(i [, kind])\n",
    "\n",
    "```\n",
    "\n",
    "\n",
    "Arguments:\n",
    " - i - the type shall be integer.\n",
    " - kind - (optional) an integer initialization expression indicating the kind parameter of the result.\n",
    "\n",
    "Return value:\n",
    " - The return value is of type character with a length of one. If the kind argument is present, the return value is of the specified kind and of the default kind otherwise."
   ]
  },
  {
   "cell_type": "code",
   "execution_count": 27,
   "metadata": {},
   "outputs": [
    {
     "name": "stdout",
     "output_type": "stream",
     "text": [
      "ABCDEFGHIJKLMNOPQRSTUVWXYZ[\\]^_`abcdefghijklmnopqrstuvwxyz"
     ]
    }
   ],
   "source": [
    "%num_images: 1\n",
    "program test_achar\n",
    "  character :: c\n",
    "  integer :: i\n",
    "  do i=65,122\n",
    "    c = achar(i)\n",
    "    write(*,'(A)', ADVANCE = \"NO\") c\n",
    "  end do\n",
    "end program test_achar"
   ]
  },
  {
   "cell_type": "markdown",
   "metadata": {},
   "source": [
    "---"
   ]
  },
  {
   "cell_type": "code",
   "execution_count": null,
   "metadata": {},
   "outputs": [],
   "source": []
  }
 ],
 "metadata": {
  "kernelspec": {
   "display_name": "Coarray Fortran",
   "language": "Fortran",
   "name": "coarray-fortran"
  },
  "language_info": {
   "file_extension": ".f90",
   "mimetype": "text/plain",
   "name": "fortran"
  }
 },
 "nbformat": 4,
 "nbformat_minor": 2
}
